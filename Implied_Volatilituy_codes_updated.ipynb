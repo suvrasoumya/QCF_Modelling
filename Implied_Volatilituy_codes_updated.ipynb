{
 "cells": [
  {
   "cell_type": "markdown",
   "metadata": {
    "toc": true
   },
   "source": [
    "<h1>Table of Contents<span class=\"tocSkip\"></span></h1>\n",
    "<div class=\"toc\"><ul class=\"toc-item\"></ul></div>"
   ]
  },
  {
   "cell_type": "code",
   "execution_count": 1,
   "metadata": {
    "ExecuteTime": {
     "end_time": "2021-04-04T23:12:22.185866Z",
     "start_time": "2021-04-04T23:12:18.093869Z"
    },
    "scrolled": true
   },
   "outputs": [],
   "source": [
    "# calculating the implied volatility\n",
    "import pandas as pd\n",
    "import numpy as np\n",
    "from math import *\n",
    "from scipy.stats import norm\n",
    "import matplotlib.pyplot as plt\n",
    "\n",
    "# cumulative distribution of Normal distribution\n",
    "# return the normal distribution quantile\n",
    "def normal(x):\n",
    "    # return norm.cdf(x) we could use this instead\n",
    "    if abs(x)<=10:\n",
    "        dx = 0.01*abs(x)\n",
    "        s = 0\n",
    "        for i in range(0,100):\n",
    "            t_x = i*dx\n",
    "            n_x = (i+1)*dx\n",
    "            s0 = (exp(-t_x**2/2)/sqrt(2*pi)+exp(-n_x**2/2)/sqrt(2*pi))*dx/2\n",
    "            s = s+s0\n",
    "        return 0.5+np.sign(x)*s\n",
    "    elif x<=-10:\n",
    "        return 0\n",
    "    else:\n",
    "        return 1"
   ]
  },
  {
   "cell_type": "code",
   "execution_count": 2,
   "metadata": {
    "ExecuteTime": {
     "end_time": "2021-04-04T23:12:22.193676Z",
     "start_time": "2021-04-04T23:12:22.187320Z"
    }
   },
   "outputs": [],
   "source": [
    "# For european call&put calculate the difference between estimation of price and real market price\n",
    "def f(S,r,yield_,T,E,C,x,type_):\n",
    "    # x is the sigma, the implied volatility\n",
    "    d1 = (log(S/E)+(r-yield_+0.5*x**2)*T)/(x*sqrt(T))\n",
    "    # print(S*normal(d1)-E*exp(-r*T)*normal(d1-x*sqrt(T)))\n",
    "    if type_ == 'c':\n",
    "        return C-S*np.exp(-yield_*T)*normal(d1)+E*exp(-r*T)*normal(d1-x*sqrt(T))\n",
    "    else:\n",
    "        return C-(-S*np.exp(-yield_*T)*normal(-d1)+E*exp(-r*T)*normal(-d1+x*sqrt(T)))\n",
    "\n",
    "# for the first derivative of f\n",
    "def df(S,r,yield_,T,E,C,x,type_):\n",
    "    if type_ == 'c':\n",
    "        return -S*np.exp(-yield_*T)*sqrt(T)*normal(log(S)-log(E)+(r+0.5*x**2-yield_)*T)/(x*sqrt(T))\n",
    "    else:\n",
    "        return -S*np.exp(-yield_*T)*sqrt(T)*normal(log(S)-log(E)+(r+0.5*x**2-yield_)*T)/(x*sqrt(T))\n",
    "# df(0.75,0.1,5,1,0.1,1.6)"
   ]
  },
  {
   "cell_type": "code",
   "execution_count": 3,
   "metadata": {
    "ExecuteTime": {
     "end_time": "2021-04-04T23:12:22.202414Z",
     "start_time": "2021-04-04T23:12:22.196068Z"
    }
   },
   "outputs": [],
   "source": [
    "def Newton(v0,S,r,yield_,T,E,C,type_):\n",
    "    '''\n",
    "    v0: initial volatility\n",
    "    S: stock price\n",
    "    r: risk free rate\n",
    "    T: Time to maturity\n",
    "    E: strike price\n",
    "    C: Call option Price\n",
    "    '''\n",
    "    count = 1\n",
    "    v_1 = v0-f(S,r,yield_,T,E,C,v0,type_)/df(S,r,yield_,T,E,C,v0,type_)\n",
    "    f_v = f(S,r,yield_,T,E,C,v_1,type_)\n",
    "    while abs(v_1-v0)>10**(-6) or abs(f_v)>10**(-6):\n",
    "        count = count+1\n",
    "        if count>1000:\n",
    "            return None,None\n",
    "        v0 = v_1\n",
    "        v_1 = v0-f(S,r,yield_,T,E,C,v0,type_)/df(S,r,yield_,T,E,C,v0,type_)\n",
    "        f_v = f(S,r,yield_,T,E,C,v_1,type_)\n",
    "    return v_1,count\n",
    "\n",
    "def Bi_Section_M(a,b,S,r,yield_,T,E,C,type_):\n",
    "    h = (a+b)/2\n",
    "    f_h = f(S,r,yield_,T,E,C,h,type_)\n",
    "    count = 0\n",
    "    while abs(f_h)>10**(-6):\n",
    "        count = count+1\n",
    "        if count>1000:\n",
    "            return None,None\n",
    "        if f_h>0:\n",
    "            a=h\n",
    "        else:\n",
    "            b=h\n",
    "        h = (a+b)/2\n",
    "        f_h = f(S,r,yield_,T,E,C,h,type_)\n",
    "    return h,count"
   ]
  },
  {
   "cell_type": "code",
   "execution_count": 4,
   "metadata": {
    "ExecuteTime": {
     "end_time": "2021-04-04T23:12:22.206518Z",
     "start_time": "2021-04-04T23:12:22.204476Z"
    }
   },
   "outputs": [],
   "source": [
    "S = 119\n",
    "T = 0.25\n",
    "r = 0.02\n",
    "Call_price_array = [7.95,5.7,4.22,3,2.16]\n",
    "E_array = np.arange(120,145,5)\n",
    "v_n = []\n",
    "v_b = []"
   ]
  },
  {
   "cell_type": "code",
   "execution_count": 5,
   "metadata": {
    "ExecuteTime": {
     "end_time": "2021-04-04T23:12:22.879488Z",
     "start_time": "2021-04-04T23:12:22.207698Z"
    }
   },
   "outputs": [],
   "source": [
    "# Calculation for call price\n",
    "for i in range(len(Call_price_array)):\n",
    "    if Call_price_array[i]<S and Call_price_array[i]>(S-E_array[i]*exp(-r*T)):\n",
    "        b_sigma, b_count = Bi_Section_M(0.0001,2,S,r,0.03,T,E_array[i],Call_price_array[i],'c')\n",
    "        v0 = sqrt(2*abs(log(S/E_array[i])+r*T)/T)\n",
    "        N_sigma,N_count = Newton(v0,S,r,0.03,T,E_array[i],Call_price_array[i],'c')\n",
    "    else:\n",
    "        b_sigma = None\n",
    "        b_count = None\n",
    "        N_sigma,N_count = None,None\n",
    "        print('Wrong')\n",
    "    v_b.append(b_sigma)\n",
    "    v_n.append(N_sigma)\n",
    "    # i_b.append(b_count)\n",
    "    # i_n.append(N_count)"
   ]
  },
  {
   "cell_type": "code",
   "execution_count": 6,
   "metadata": {
    "ExecuteTime": {
     "end_time": "2021-04-04T23:12:22.971951Z",
     "start_time": "2021-04-04T23:12:22.880488Z"
    }
   },
   "outputs": [
    {
     "data": {
      "text/plain": [
       "[<matplotlib.lines.Line2D at 0x7f9fba5b2c70>]"
      ]
     },
     "execution_count": 6,
     "metadata": {},
     "output_type": "execute_result"
    },
    {
     "data": {
      "image/png": "[encoded data removed]",
      "text/plain": [
       "<Figure size 432x288 with 1 Axes>"
      ]
     },
     "metadata": {
      "needs_background": "light"
     },
     "output_type": "display_data"
    }
   ],
   "source": [
    "plt.plot(v_n)"
   ]
  },
  {
   "cell_type": "code",
   "execution_count": 7,
   "metadata": {
    "ExecuteTime": {
     "end_time": "2021-04-04T23:12:22.974844Z",
     "start_time": "2021-04-04T23:12:22.972870Z"
    }
   },
   "outputs": [
    {
     "data": {
      "text/plain": [
       "[0.3626972757428885,\n",
       " 0.35060570725202567,\n",
       " 0.35364872983694084,\n",
       " 0.35211237773001197,\n",
       " 0.35503363411426553]"
      ]
     },
     "execution_count": 7,
     "metadata": {},
     "output_type": "execute_result"
    }
   ],
   "source": [
    "v_b"
   ]
  },
  {
   "cell_type": "code",
   "execution_count": 8,
   "metadata": {
    "ExecuteTime": {
     "end_time": "2021-04-04T23:12:24.117692Z",
     "start_time": "2021-04-04T23:12:22.976573Z"
    }
   },
   "outputs": [],
   "source": [
    "# Calculation for put price\n",
    "Put_price_array = [1.13,1.68,2.4,3.45,4.95,6.54]\n",
    "Ep_array = np.arange(90,120,5)\n",
    "vp_n = []\n",
    "vp_b = []\n",
    "for i in range(len(Put_price_array)):\n",
    "    b_sigma, b_count = Bi_Section_M(0.0001,2,S,r,0.03,T,Ep_array[i],Put_price_array[i],'p')\n",
    "    v0 = sqrt(2*abs(log(S/Ep_array[i])+r*T)/T)\n",
    "    N_sigma,N_count = Newton(v0,S,r,0.03,T,Ep_array[i],Put_price_array[i],'p')\n",
    "    vp_b.append(b_sigma)\n",
    "    vp_n.append(N_sigma)\n",
    "    # i_b.append(b_count)\n",
    "    # i_n.append(N_count)"
   ]
  },
  {
   "cell_type": "code",
   "execution_count": 9,
   "metadata": {
    "ExecuteTime": {
     "end_time": "2021-04-04T23:12:24.120879Z",
     "start_time": "2021-04-04T23:12:24.118794Z"
    }
   },
   "outputs": [
    {
     "data": {
      "text/plain": [
       "[0.4410596966326237,\n",
       " 0.42344192140698445,\n",
       " 0.40360112329721454,\n",
       " 0.38861213908791536,\n",
       " 0.3794369992464781,\n",
       " 0.35629355370104315]"
      ]
     },
     "execution_count": 9,
     "metadata": {},
     "output_type": "execute_result"
    }
   ],
   "source": [
    "vp_b"
   ]
  },
  {
   "cell_type": "code",
   "execution_count": 10,
   "metadata": {
    "ExecuteTime": {
     "end_time": "2021-04-04T23:12:24.123562Z",
     "start_time": "2021-04-04T23:12:24.121668Z"
    }
   },
   "outputs": [
    {
     "data": {
      "text/plain": [
       "[0.44105979226361475,\n",
       " 0.4234420080694112,\n",
       " 0.4036011509782819,\n",
       " 0.3886122428327767,\n",
       " 0.3794370426221424,\n",
       " 0.35629359296334684]"
      ]
     },
     "execution_count": 10,
     "metadata": {},
     "output_type": "execute_result"
    }
   ],
   "source": [
    "vp_n"
   ]
  },
  {
   "cell_type": "code",
   "execution_count": null,
   "metadata": {},
   "outputs": [],
   "source": []
  }
 ],
 "metadata": {
  "kernelspec": {
   "display_name": "Python 3",
   "language": "python",
   "name": "python3"
  },
  "language_info": {
   "codemirror_mode": {
    "name": "ipython",
    "version": 3
   },
   "file_extension": ".py",
   "mimetype": "text/x-python",
   "name": "python",
   "nbconvert_exporter": "python",
   "pygments_lexer": "ipython3",
   "version": "3.8.5"
  },
  "toc": {
   "base_numbering": 1,
   "nav_menu": {},
   "number_sections": true,
   "sideBar": true,
   "skip_h1_title": true,
   "title_cell": "Table of Contents",
   "title_sidebar": "Contents",
   "toc_cell": true,
   "toc_position": {},
   "toc_section_display": true,
   "toc_window_display": true
  }
 },
 "nbformat": 4,
 "nbformat_minor": 4
}
