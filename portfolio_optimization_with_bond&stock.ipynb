{
 "cells": [
  {
   "cell_type": "markdown",
   "metadata": {
    "toc": true
   },
   "source": [
    "<h1>Table of Contents<span class=\"tocSkip\"></span></h1>\n",
    "<div class=\"toc\"><ul class=\"toc-item\"><li><span><a href=\"#1.-Import-packages\" data-toc-modified-id=\"1.-Import-packages-1\"><span class=\"toc-item-num\">1&nbsp;&nbsp;</span>1. Import packages</a></span></li><li><span><a href=\"#2.-set-parameters\" data-toc-modified-id=\"2.-set-parameters-2\"><span class=\"toc-item-num\">2&nbsp;&nbsp;</span>2. set parameters</a></span></li><li><span><a href=\"#3.-calculation\" data-toc-modified-id=\"3.-calculation-3\"><span class=\"toc-item-num\">3&nbsp;&nbsp;</span>3. calculation</a></span></li><li><span><a href=\"#4.solve-linear-program-maximizing-expected-profit\" data-toc-modified-id=\"4.solve-linear-program-maximizing-expected-profit-4\"><span class=\"toc-item-num\">4&nbsp;&nbsp;</span>4.solve linear program maximizing expected profit</a></span></li><li><span><a href=\"#5.-More-Computation-for-cost,-profit,-risk-and-sharpe\" data-toc-modified-id=\"5.-More-Computation-for-cost,-profit,-risk-and-sharpe-5\"><span class=\"toc-item-num\">5&nbsp;&nbsp;</span>5. More Computation for cost, profit, risk and sharpe</a></span><ul class=\"toc-item\"><li><span><a href=\"#In-python-np.std-use-n-as-denominator-not-n-1,-matlab-std-use-n-1-that's-where-the-difference!\" data-toc-modified-id=\"In-python-np.std-use-n-as-denominator-not-n-1,-matlab-std-use-n-1-that's-where-the-difference!-5.1\"><span class=\"toc-item-num\">5.1&nbsp;&nbsp;</span>In python np.std use n as denominator not n-1, matlab std use n-1 that's where the difference!</a></span></li></ul></li><li><span><a href=\"#Here-we-should-use-n-as-denominator-because-the-variance-we-calculate-here-is-not-an-estimation\" data-toc-modified-id=\"Here-we-should-use-n-as-denominator-because-the-variance-we-calculate-here-is-not-an-estimation-6\"><span class=\"toc-item-num\">6&nbsp;&nbsp;</span>Here we should use n as denominator because the variance we calculate here is not an estimation</a></span></li><li><span><a href=\"#Why-we-should-choose-only-stock?--[2.5000000e+03,-1.0383546e-07],-because-stock-has-a-higher-return-expected-rate\" data-toc-modified-id=\"Why-we-should-choose-only-stock?--[2.5000000e+03,-1.0383546e-07],-because-stock-has-a-higher-return-expected-rate-7\"><span class=\"toc-item-num\">7&nbsp;&nbsp;</span>Why we should choose only stock?  [2.5000000e+03, 1.0383546e-07], because stock has a higher return expected rate</a></span></li></ul></div>"
   ]
  },
  {
   "cell_type": "markdown",
   "metadata": {},
   "source": [
    "## 1. Import packages"
   ]
  },
  {
   "cell_type": "code",
   "execution_count": 1,
   "metadata": {
    "ExecuteTime": {
     "end_time": "2021-02-19T17:35:56.317960Z",
     "start_time": "2021-02-19T17:35:55.976864Z"
    }
   },
   "outputs": [],
   "source": [
    "import numpy as np\n",
    "from scipy.optimize import linprog"
   ]
  },
  {
   "cell_type": "markdown",
   "metadata": {},
   "source": [
    "## 2. set parameters"
   ]
  },
  {
   "cell_type": "code",
   "execution_count": 10,
   "metadata": {
    "ExecuteTime": {
     "end_time": "2021-02-19T17:45:18.797644Z",
     "start_time": "2021-02-19T17:45:18.790518Z"
    }
   },
   "outputs": [],
   "source": [
    "# Get Prices and future prices, each has 1/3 probability \n",
    "stock_price = 20\n",
    "stock_prices_future = np.transpose(np.array([[40,20,12]]))\n",
    "bond_price = 90\n",
    "bond_prices_future = np.transpose(np.array([[100,100,100]]))"
   ]
  },
  {
   "cell_type": "code",
   "execution_count": 3,
   "metadata": {
    "ExecuteTime": {
     "end_time": "2021-02-19T17:36:26.064822Z",
     "start_time": "2021-02-19T17:36:26.046740Z"
    }
   },
   "outputs": [
    {
     "data": {
      "text/plain": [
       "array([[40],\n",
       "       [20],\n",
       "       [12]])"
      ]
     },
     "execution_count": 3,
     "metadata": {},
     "output_type": "execute_result"
    }
   ],
   "source": [
    "stock_prices_future"
   ]
  },
  {
   "cell_type": "markdown",
   "metadata": {},
   "source": [
    "## 3. calculation"
   ]
  },
  {
   "cell_type": "code",
   "execution_count": 4,
   "metadata": {
    "ExecuteTime": {
     "end_time": "2021-02-19T17:36:55.089915Z",
     "start_time": "2021-02-19T17:36:55.082683Z"
    }
   },
   "outputs": [
    {
     "name": "stdout",
     "output_type": "stream",
     "text": [
      "expected_stock_return:  0.19999999999999998\n",
      "expected_bond_return:  0.1111111111111111\n"
     ]
    }
   ],
   "source": [
    "# Get expected profits\n",
    "expected_profit_stock = np.mean(stock_prices_future-stock_price)\n",
    "expected_profit_bond = 10\n",
    "\n",
    "# get returns for stock and bond\n",
    "stock_returns = (stock_prices_future - stock_price)/stock_price;\n",
    "bond_returns = (bond_prices_future - bond_price)/bond_price;\n",
    "\n",
    "# expected returns for stock\n",
    "expected_stock_return = np.mean(stock_returns)\n",
    "expected_bond_return = np.mean(bond_returns)\n",
    "print('expected_stock_return: ',expected_stock_return)\n",
    "print('expected_bond_return: ',expected_bond_return)"
   ]
  },
  {
   "cell_type": "markdown",
   "metadata": {},
   "source": [
    "## 4.solve linear program maximizing expected profit"
   ]
  },
  {
   "cell_type": "code",
   "execution_count": 5,
   "metadata": {
    "ExecuteTime": {
     "end_time": "2021-02-19T17:44:59.156649Z",
     "start_time": "2021-02-19T17:44:59.132666Z"
    }
   },
   "outputs": [],
   "source": [
    "# define the function to maximize\n",
    "# why negative here? Because linprog is used to minimize\n",
    "f = [-1*expected_profit_stock, -1*expected_profit_bond]\n",
    "A = [[20, 90]]\n",
    "b = [50000]\n",
    "x0_bounds = (0, None)\n",
    "x1_bounds = (0, None)\n",
    "result = linprog(f, A_ub=A, b_ub=b, bounds=[x0_bounds, x1_bounds])"
   ]
  },
  {
   "cell_type": "code",
   "execution_count": 6,
   "metadata": {
    "ExecuteTime": {
     "end_time": "2021-02-19T17:45:00.873598Z",
     "start_time": "2021-02-19T17:45:00.868722Z"
    }
   },
   "outputs": [
    {
     "name": "stdout",
     "output_type": "stream",
     "text": [
      "     con: array([], dtype=float64)\n",
      "     fun: -9999.999985319324\n",
      " message: 'Optimization terminated successfully.'\n",
      "     nit: 5\n",
      "   slack: array([6.92499598e-05])\n",
      "  status: 0\n",
      " success: True\n",
      "       x: array([2.5000000e+03, 1.0383546e-07])\n"
     ]
    }
   ],
   "source": [
    "print(result)"
   ]
  },
  {
   "cell_type": "markdown",
   "metadata": {},
   "source": [
    "## 5. More Computation for cost, profit, risk and sharpe"
   ]
  },
  {
   "cell_type": "code",
   "execution_count": 7,
   "metadata": {
    "ExecuteTime": {
     "end_time": "2021-02-19T17:45:04.574682Z",
     "start_time": "2021-02-19T17:45:04.569186Z"
    }
   },
   "outputs": [
    {
     "data": {
      "text/plain": [
       "9999.999985319324"
      ]
     },
     "execution_count": 7,
     "metadata": {},
     "output_type": "execute_result"
    }
   ],
   "source": [
    "# what is expected profit?\n",
    "expected_profit =  -np.dot(np.array(f),np.array(result.x));\n",
    "expected_profit"
   ]
  },
  {
   "cell_type": "code",
   "execution_count": 8,
   "metadata": {
    "ExecuteTime": {
     "end_time": "2021-02-19T17:45:06.515237Z",
     "start_time": "2021-02-19T17:45:06.508393Z"
    }
   },
   "outputs": [
    {
     "name": "stdout",
     "output_type": "stream",
     "text": [
      "49999.99993075004\n"
     ]
    }
   ],
   "source": [
    "# compute cost of portfolio\n",
    "cost = np.dot(np.array([stock_price,bond_price]), np.array(result.x))\n",
    "print(cost)"
   ]
  },
  {
   "cell_type": "code",
   "execution_count": 19,
   "metadata": {
    "ExecuteTime": {
     "end_time": "2021-02-19T17:50:58.123412Z",
     "start_time": "2021-02-19T17:50:58.118285Z"
    }
   },
   "outputs": [
    {
     "data": {
      "text/plain": [
       "array([40, 20, 12])"
      ]
     },
     "execution_count": 19,
     "metadata": {},
     "output_type": "execute_result"
    }
   ],
   "source": [
    "stock_prices_future.reshape(3)"
   ]
  },
  {
   "cell_type": "code",
   "execution_count": 20,
   "metadata": {
    "ExecuteTime": {
     "end_time": "2021-02-19T17:51:08.494079Z",
     "start_time": "2021-02-19T17:51:08.486518Z"
    }
   },
   "outputs": [
    {
     "data": {
      "text/plain": [
       "array([[ 40, 100],\n",
       "       [ 20, 100],\n",
       "       [ 12, 100]])"
      ]
     },
     "execution_count": 20,
     "metadata": {},
     "output_type": "execute_result"
    }
   ],
   "source": [
    "np.transpose(np.array([stock_prices_future.reshape(3),np.squeeze(bond_prices_future)]))"
   ]
  },
  {
   "cell_type": "code",
   "execution_count": 11,
   "metadata": {
    "ExecuteTime": {
     "end_time": "2021-02-19T17:45:24.955852Z",
     "start_time": "2021-02-19T17:45:24.951217Z"
    }
   },
   "outputs": [
    {
     "data": {
      "text/plain": [
       "array([100, 100, 100])"
      ]
     },
     "execution_count": 11,
     "metadata": {},
     "output_type": "execute_result"
    }
   ],
   "source": [
    "np.squeeze(bond_prices_future)"
   ]
  },
  {
   "cell_type": "code",
   "execution_count": 21,
   "metadata": {
    "ExecuteTime": {
     "end_time": "2021-02-19T17:51:15.424785Z",
     "start_time": "2021-02-19T17:51:15.416701Z"
    }
   },
   "outputs": [
    {
     "name": "stdout",
     "output_type": "stream",
     "text": [
      "portfolio_prices_future:   [99999.99985319 49999.99993179 29999.99996323]\n",
      "portfolio_returns:   [ 1.00000000e+00  2.07671838e-11 -4.00000000e-01]\n"
     ]
    }
   ],
   "source": [
    "# computation of Risk\n",
    " \n",
    "portfolio_prices_future = np.dot(np.transpose(np.array([stock_prices_future.reshape(3),np.squeeze(bond_prices_future)])), np.array(result.x))\n",
    "print('portfolio_prices_future:  ',portfolio_prices_future)\n",
    "\n",
    "portfolio_returns = (portfolio_prices_future- cost)/cost\n",
    "print('portfolio_returns:  ',portfolio_returns)"
   ]
  },
  {
   "cell_type": "markdown",
   "metadata": {},
   "source": [
    "### In python np.std use n as denominator not n-1, matlab std use n-1 that's where the difference! "
   ]
  },
  {
   "cell_type": "code",
   "execution_count": 22,
   "metadata": {
    "ExecuteTime": {
     "end_time": "2021-02-19T17:51:50.690490Z",
     "start_time": "2021-02-19T17:51:50.685141Z"
    }
   },
   "outputs": [
    {
     "name": "stdout",
     "output_type": "stream",
     "text": [
      "sharpe 0.33968311027865006\n"
     ]
    }
   ],
   "source": [
    "# In python np.std use n as denominator not n-1, matlab std use n-1 that's where the difference! \n",
    "mu = np.mean(portfolio_returns)\n",
    "sigma = np.std(portfolio_returns)\n",
    " \n",
    "# calculate sharpe!\n",
    "sharpe = mu/sigma\n",
    "print('sharpe', sharpe)"
   ]
  },
  {
   "cell_type": "markdown",
   "metadata": {},
   "source": [
    "## Here we should use n as denominator because the variance we calculate here is not an estimation"
   ]
  },
  {
   "cell_type": "code",
   "execution_count": 23,
   "metadata": {
    "ExecuteTime": {
     "end_time": "2021-02-19T17:51:52.920367Z",
     "start_time": "2021-02-19T17:51:52.913810Z"
    }
   },
   "outputs": [
    {
     "data": {
      "text/plain": [
       "0.5887840576451439"
      ]
     },
     "execution_count": 23,
     "metadata": {},
     "output_type": "execute_result"
    }
   ],
   "source": [
    "np.sqrt(np.sum((portfolio_returns-mu)**2/3))"
   ]
  },
  {
   "cell_type": "code",
   "execution_count": 24,
   "metadata": {
    "ExecuteTime": {
     "end_time": "2021-02-19T17:51:54.330375Z",
     "start_time": "2021-02-19T17:51:54.325339Z"
    }
   },
   "outputs": [
    {
     "data": {
      "text/plain": [
       "0.5887840576451439"
      ]
     },
     "execution_count": 24,
     "metadata": {},
     "output_type": "execute_result"
    }
   ],
   "source": [
    "sigma"
   ]
  },
  {
   "cell_type": "markdown",
   "metadata": {},
   "source": [
    "## Why we should choose only stock?  [2.5000000e+03, 1.0383546e-07], because stock has a higher return expected rate"
   ]
  }
 ],
 "metadata": {
  "kernelspec": {
   "display_name": "Python 3",
   "language": "python",
   "name": "python3"
  },
  "language_info": {
   "codemirror_mode": {
    "name": "ipython",
    "version": 3
   },
   "file_extension": ".py",
   "mimetype": "text/x-python",
   "name": "python",
   "nbconvert_exporter": "python",
   "pygments_lexer": "ipython3",
   "version": "3.8.5"
  },
  "toc": {
   "base_numbering": 1,
   "nav_menu": {},
   "number_sections": true,
   "sideBar": true,
   "skip_h1_title": true,
   "title_cell": "Table of Contents",
   "title_sidebar": "Contents",
   "toc_cell": true,
   "toc_position": {},
   "toc_section_display": true,
   "toc_window_display": true
  }
 },
 "nbformat": 4,
 "nbformat_minor": 4
}
