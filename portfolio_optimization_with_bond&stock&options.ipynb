{
 "cells": [
  {
   "cell_type": "markdown",
   "metadata": {
    "toc": true
   },
   "source": [
    "<h1>Table of Contents<span class=\"tocSkip\"></span></h1>\n",
    "<div class=\"toc\"><ul class=\"toc-item\"><li><span><a href=\"#Import-packages\" data-toc-modified-id=\"Import-packages-1\"><span class=\"toc-item-num\">1&nbsp;&nbsp;</span>Import packages</a></span></li><li><span><a href=\"#set-parameters\" data-toc-modified-id=\"set-parameters-2\"><span class=\"toc-item-num\">2&nbsp;&nbsp;</span>set parameters</a></span></li><li><span><a href=\"#calculation\" data-toc-modified-id=\"calculation-3\"><span class=\"toc-item-num\">3&nbsp;&nbsp;</span>calculation</a></span></li><li><span><a href=\"#solve-linear-program-maximizing-expected-profit\" data-toc-modified-id=\"solve-linear-program-maximizing-expected-profit-4\"><span class=\"toc-item-num\">4&nbsp;&nbsp;</span>solve linear program maximizing expected profit</a></span></li><li><span><a href=\"#Computation-of-Cost,-Profit,-Risk\" data-toc-modified-id=\"Computation-of-Cost,-Profit,-Risk-5\"><span class=\"toc-item-num\">5&nbsp;&nbsp;</span>Computation of Cost, Profit, Risk</a></span></li></ul></div>"
   ]
  },
  {
   "cell_type": "markdown",
   "metadata": {},
   "source": [
    "## Import packages"
   ]
  },
  {
   "cell_type": "code",
   "execution_count": 1,
   "metadata": {
    "ExecuteTime": {
     "end_time": "2021-02-19T20:50:07.149092Z",
     "start_time": "2021-02-19T20:50:06.857708Z"
    }
   },
   "outputs": [],
   "source": [
    "import numpy as np\n",
    "from scipy.optimize import linprog"
   ]
  },
  {
   "cell_type": "markdown",
   "metadata": {},
   "source": [
    "A stock is at 100. \n",
    "In 6-months time, your best guess is that the stock could take any of the five values 150, 130, 100, 80 or 70 with equal probability. You are considering investing in the stock along with 6-month call options with strikes 80, 100 and 120 with prices 25, 10 and 5 respectively. You may also invest in a risk-free zero coupon bond with FV 100 and maturity six months that is trading at $99. Your budget is 100,000. Also, you do not want to sell more than 5000 options at any time.\n",
    "\n",
    "Calculate your sharpe ratio with long only investments in the stock and bond. Sharpe ratio (for our purposes) is the ratio of return to risk (sigma).\n",
    "\n",
    "Then re-calculate your sharpe ratio with long only investments in stock and bond and options positions with short positions limited to 5000 in each option.\n",
    "\n",
    "1. What are the expected profits with and without options included?\n",
    "\n",
    "2. What are the Sharpe ratios with and without options included?\n",
    "\n",
    "You may use MATLAB, Python or other software if you prefer. You may use the code (in MATLAB and Python) that is available on canvas and adapt it suitably."
   ]
  },
  {
   "cell_type": "markdown",
   "metadata": {},
   "source": [
    "## set parameters"
   ]
  },
  {
   "cell_type": "code",
   "execution_count": 2,
   "metadata": {
    "ExecuteTime": {
     "end_time": "2021-02-19T20:50:07.153252Z",
     "start_time": "2021-02-19T20:50:07.150262Z"
    }
   },
   "outputs": [],
   "source": [
    "# Get Prices and future prices, each has 1/3 probability \n",
    "stock_price = 100\n",
    "stock_prices_future = np.transpose(np.array([[150,130,100,80,70]]))\n",
    "bond_price = 99\n",
    "bond_prices_future = np.transpose(np.array([[100,100,100,100,100]]))\n",
    "\n",
    "option1_price = 25\n",
    "option2_price = 10\n",
    "option3_price = 5\n",
    "option1_prices_future = np.transpose(np.array([[70,50,20,0,0]])) #strike 80\n",
    "option2_prices_future = np.transpose(np.array([[50,30,0,0,0]])) #strike 100\n",
    "option3_prices_future = np.transpose(np.array([[30,10,0,0,0]])) #strike 120"
   ]
  },
  {
   "cell_type": "markdown",
   "metadata": {},
   "source": [
    "## calculation"
   ]
  },
  {
   "cell_type": "code",
   "execution_count": 3,
   "metadata": {
    "ExecuteTime": {
     "end_time": "2021-02-19T20:50:07.158705Z",
     "start_time": "2021-02-19T20:50:07.154483Z"
    }
   },
   "outputs": [
    {
     "name": "stdout",
     "output_type": "stream",
     "text": [
      "expected_stock_return:  0.06000000000000002\n",
      "expected_bond_return:  0.010101010101010102\n",
      "expected_option1_return:  0.11999999999999993\n",
      "expected_option2_return:  0.6\n",
      "expected_option3_return:  0.6\n"
     ]
    }
   ],
   "source": [
    "# Get expected profits\n",
    "expected_profit_stock = np.mean(stock_prices_future-stock_price)\n",
    "expected_profit_bond = 10\n",
    "expected_profit_option1 = np.mean(option1_prices_future - option1_price)\n",
    "expected_profit_option2 = np.mean(option2_prices_future - option2_price)\n",
    "expected_profit_option3 = np.mean(option3_prices_future - option3_price)\n",
    "\n",
    "\n",
    "# get returns for stock , bond and options\n",
    "stock_returns = (stock_prices_future - stock_price)/stock_price;\n",
    "bond_returns = (bond_prices_future - bond_price)/bond_price;\n",
    "option1_returns =(option1_prices_future - option1_price)/option1_price;\n",
    "option2_returns =(option2_prices_future - option2_price)/option2_price;\n",
    "option3_returns =(option3_prices_future - option3_price)/option3_price;\n",
    "\n",
    "# expected returns for stock\n",
    "expected_stock_return = np.mean(stock_returns)\n",
    "expected_bond_return = np.mean(bond_returns)\n",
    "expected_option1_return = np.mean(option1_returns)\n",
    "expected_option2_return = np.mean(option2_returns)\n",
    "expected_option3_return = np.mean(option3_returns)\n",
    "\n",
    "print('expected_stock_return: ',expected_stock_return)\n",
    "print('expected_bond_return: ',expected_bond_return)\n",
    "print('expected_option1_return: ',expected_option1_return)\n",
    "print('expected_option2_return: ',expected_option2_return)\n",
    "print('expected_option3_return: ',expected_option3_return)"
   ]
  },
  {
   "cell_type": "markdown",
   "metadata": {},
   "source": [
    "## solve linear program maximizing expected profit"
   ]
  },
  {
   "cell_type": "code",
   "execution_count": 4,
   "metadata": {
    "ExecuteTime": {
     "end_time": "2021-02-19T20:50:07.167303Z",
     "start_time": "2021-02-19T20:50:07.160427Z"
    }
   },
   "outputs": [],
   "source": [
    "# define the function to maximize\n",
    "# why negative here? Because linprog is used to minimize\n",
    "f_bond_stock = [-1*expected_profit_stock, -1*expected_profit_bond]\n",
    "A_bst = [[100, 99]]\n",
    "b_bst = [100000]\n",
    "x0_bounds = (0, None)\n",
    "x1_bounds = (0, None)\n",
    "\n",
    "result_bst = linprog(f_bond_stock, A_ub=A_bst, b_ub=b_bst, bounds=[x0_bounds, x1_bounds])"
   ]
  },
  {
   "cell_type": "code",
   "execution_count": 5,
   "metadata": {
    "ExecuteTime": {
     "end_time": "2021-02-19T20:50:07.173484Z",
     "start_time": "2021-02-19T20:50:07.168142Z"
    }
   },
   "outputs": [],
   "source": [
    "# define the function to maximize\n",
    "# why negative here? Because linprog is used to minimize\n",
    "f = [-1*expected_profit_stock, -1*expected_profit_bond, -expected_profit_option1 ,-expected_profit_option2, -expected_profit_option3]\n",
    "A = [[100, 99, 25, 10, 5]]\n",
    "b = [100000]\n",
    "x0_bounds = (0, None)\n",
    "x1_bounds = (0, None)\n",
    "x2_bounds = (-5000, None)\n",
    "x3_bounds = (-5000, None)\n",
    "x4_bounds = (-5000, None)\n",
    "result = linprog(f, A_ub=A, b_ub=b, bounds=[x0_bounds, x1_bounds, x2_bounds, x3_bounds, x4_bounds])"
   ]
  },
  {
   "cell_type": "code",
   "execution_count": 6,
   "metadata": {
    "ExecuteTime": {
     "end_time": "2021-02-19T20:50:07.176398Z",
     "start_time": "2021-02-19T20:50:07.174353Z"
    }
   },
   "outputs": [
    {
     "name": "stdout",
     "output_type": "stream",
     "text": [
      "     con: array([], dtype=float64)\n",
      "     fun: -10101.010068711184\n",
      " message: 'Optimization terminated successfully.'\n",
      "     nit: 5\n",
      "   slack: array([0.00031525])\n",
      "  status: 0\n",
      " success: True\n",
      "       x: array([1.11178211e-07, 1.01010101e+03])\n"
     ]
    }
   ],
   "source": [
    "print(result_bst)"
   ]
  },
  {
   "cell_type": "code",
   "execution_count": 7,
   "metadata": {
    "ExecuteTime": {
     "end_time": "2021-02-19T20:50:07.179765Z",
     "start_time": "2021-02-19T20:50:07.177417Z"
    }
   },
   "outputs": [
    {
     "name": "stdout",
     "output_type": "stream",
     "text": [
      "     con: array([], dtype=float64)\n",
      "     fun: -119999.93079558674\n",
      " message: 'Optimization terminated successfully.'\n",
      "     nit: 5\n",
      "   slack: array([0.10917305])\n",
      "  status: 0\n",
      " success: True\n",
      "       x: array([ 6.39120304e-06,  1.00814660e-05, -4.99999976e+03,  2.24971789e+04,\n",
      "        5.61888483e+00])\n"
     ]
    }
   ],
   "source": [
    "print(result)"
   ]
  },
  {
   "cell_type": "markdown",
   "metadata": {},
   "source": [
    "## Computation of Cost, Profit, Risk"
   ]
  },
  {
   "cell_type": "code",
   "execution_count": 8,
   "metadata": {
    "ExecuteTime": {
     "end_time": "2021-02-19T20:50:07.189051Z",
     "start_time": "2021-02-19T20:50:07.183238Z"
    }
   },
   "outputs": [
    {
     "data": {
      "text/plain": [
       "10101.010068711184"
      ]
     },
     "execution_count": 8,
     "metadata": {},
     "output_type": "execute_result"
    }
   ],
   "source": [
    "expected_profit_bst =  -np.dot(np.array(f_bond_stock),np.array(result_bst.x));\n",
    "expected_profit_bst"
   ]
  },
  {
   "cell_type": "code",
   "execution_count": 9,
   "metadata": {
    "ExecuteTime": {
     "end_time": "2021-02-19T20:50:07.192830Z",
     "start_time": "2021-02-19T20:50:07.190348Z"
    }
   },
   "outputs": [
    {
     "data": {
      "text/plain": [
       "119999.93079558674"
      ]
     },
     "execution_count": 9,
     "metadata": {},
     "output_type": "execute_result"
    }
   ],
   "source": [
    "expected_profit_option =  -np.dot(np.array(f),np.array(result.x));\n",
    "expected_profit_option"
   ]
  },
  {
   "cell_type": "code",
   "execution_count": 10,
   "metadata": {
    "ExecuteTime": {
     "end_time": "2021-02-19T20:50:07.198305Z",
     "start_time": "2021-02-19T20:50:07.193819Z"
    }
   },
   "outputs": [
    {
     "data": {
      "text/plain": [
       "array([[150, 100,  70,  50,  30],\n",
       "       [130, 100,  50,  30,  10],\n",
       "       [100, 100,  20,   0,   0],\n",
       "       [ 80, 100,   0,   0,   0],\n",
       "       [ 70, 100,   0,   0,   0]])"
      ]
     },
     "execution_count": 10,
     "metadata": {},
     "output_type": "execute_result"
    }
   ],
   "source": [
    "# computation of Risk\n",
    "future_prices = np.transpose(np.array([stock_prices_future.reshape(5),np.squeeze(bond_prices_future), \n",
    "                                       np.squeeze(option1_prices_future),  np.squeeze(option2_prices_future), np.squeeze(option3_prices_future)]))\n",
    "future_prices # Five asset's future price                             "
   ]
  },
  {
   "cell_type": "code",
   "execution_count": 11,
   "metadata": {
    "ExecuteTime": {
     "end_time": "2021-02-19T20:50:07.202977Z",
     "start_time": "2021-02-19T20:50:07.199815Z"
    }
   },
   "outputs": [
    {
     "data": {
      "text/plain": [
       "array([100,  99])"
      ]
     },
     "execution_count": 11,
     "metadata": {},
     "output_type": "execute_result"
    }
   ],
   "source": [
    "np.array([stock_price,bond_price])"
   ]
  },
  {
   "cell_type": "code",
   "execution_count": 12,
   "metadata": {
    "ExecuteTime": {
     "end_time": "2021-02-19T20:50:07.207821Z",
     "start_time": "2021-02-19T20:50:07.204074Z"
    }
   },
   "outputs": [
    {
     "name": "stdout",
     "output_type": "stream",
     "text": [
      "99999.89082694684\n",
      "portfolio_prices_future:   [ 7.75027529e+05  4.24971569e+05 -9.99999936e+04  1.51944284e-03\n",
      "  1.45553081e-03]\n",
      "portfolio_returns:   [ 6.75028375  3.24972033 -2.00000103 -0.99999998 -0.99999999]\n"
     ]
    }
   ],
   "source": [
    "cost = np.dot(np.array([stock_price,bond_price, option1_price, option2_price, option3_price]), np.array(result.x))\n",
    "print(cost)\n",
    "portfolio_prices_future = np.dot(future_prices, np.array(result.x))\n",
    "print('portfolio_prices_future:  ',portfolio_prices_future)\n",
    "\n",
    "portfolio_returns = (portfolio_prices_future- cost)/cost\n",
    "print('portfolio_returns:  ',portfolio_returns)"
   ]
  },
  {
   "cell_type": "code",
   "execution_count": 13,
   "metadata": {
    "ExecuteTime": {
     "end_time": "2021-02-19T20:50:07.211179Z",
     "start_time": "2021-02-19T20:50:07.208919Z"
    }
   },
   "outputs": [
    {
     "name": "stdout",
     "output_type": "stream",
     "text": [
      "sharpe ratio with options 0.36205411992987174\n"
     ]
    }
   ],
   "source": [
    "# In python np.std use n as denominator not n-1, matlab std use n-1 that's where the difference! \n",
    "mu = np.mean(portfolio_returns)\n",
    "sigma = np.std(portfolio_returns)\n",
    " \n",
    "# calculate sharpe!\n",
    "sharpe = mu/sigma\n",
    "print('sharpe ratio with options', sharpe)"
   ]
  },
  {
   "cell_type": "code",
   "execution_count": 14,
   "metadata": {
    "ExecuteTime": {
     "end_time": "2021-02-19T20:50:07.218543Z",
     "start_time": "2021-02-19T20:50:07.212143Z"
    }
   },
   "outputs": [
    {
     "name": "stdout",
     "output_type": "stream",
     "text": [
      "99999.99968475457\n",
      "portfolio_prices_future:   [101010.10069712 101010.10069489 101010.10069156 101010.10068934\n",
      " 101010.10068822]\n",
      "portfolio_returns:   [0.01010101 0.01010101 0.01010101 0.01010101 0.01010101]\n",
      "sharpe ratio with only Bonds and Stocks 302176990.91817033\n"
     ]
    }
   ],
   "source": [
    "cost_bst = np.dot(np.array([stock_price,bond_price]), np.array(result_bst.x))\n",
    "print(cost_bst)\n",
    "future_prices_bst = np.transpose(np.array([stock_prices_future.reshape(5),np.squeeze(bond_prices_future)]))\n",
    "portfolio_prices_future_bst = np.dot(future_prices_bst, np.array(result_bst.x))\n",
    "print('portfolio_prices_future:  ',portfolio_prices_future_bst)\n",
    "\n",
    "portfolio_returns_bst = (portfolio_prices_future_bst- cost_bst)/cost_bst\n",
    "print('portfolio_returns:  ',portfolio_returns_bst)\n",
    "\n",
    "mu_bst = np.mean(portfolio_returns_bst)\n",
    "sigma_bst = np.std(portfolio_returns_bst)\n",
    " \n",
    "# calculate sharpe!\n",
    "sharpe_bst = mu_bst/sigma_bst\n",
    "print('sharpe ratio with only Bonds and Stocks', sharpe_bst)"
   ]
  }
 ],
 "metadata": {
  "kernelspec": {
   "display_name": "Python 3",
   "language": "python",
   "name": "python3"
  },
  "language_info": {
   "codemirror_mode": {
    "name": "ipython",
    "version": 3
   },
   "file_extension": ".py",
   "mimetype": "text/x-python",
   "name": "python",
   "nbconvert_exporter": "python",
   "pygments_lexer": "ipython3",
   "version": "3.8.5"
  },
  "toc": {
   "base_numbering": 1,
   "nav_menu": {},
   "number_sections": true,
   "sideBar": true,
   "skip_h1_title": true,
   "title_cell": "Table of Contents",
   "title_sidebar": "Contents",
   "toc_cell": true,
   "toc_position": {},
   "toc_section_display": true,
   "toc_window_display": true
  }
 },
 "nbformat": 4,
 "nbformat_minor": 4
}
